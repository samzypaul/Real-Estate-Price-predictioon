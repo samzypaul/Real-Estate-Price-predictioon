{
  "nbformat": 4,
  "nbformat_minor": 0,
  "metadata": {
    "colab": {
      "provenance": []
    },
    "kernelspec": {
      "name": "python3",
      "display_name": "Python 3"
    },
    "language_info": {
      "name": "python"
    }
  },
  "cells": [
    {
      "cell_type": "code",
      "source": [
        "#install the following not installed on you machine\n",
        "# !pip install  kaleido\n",
        "# !pip install cohere\n",
        "# !pip install openai\n",
        "# !pip iinstall tiktoken\n",
        "# !pip install gradio"
      ],
      "metadata": {
        "id": "AXOMTlkp2690"
      },
      "execution_count": null,
      "outputs": []
    },
    {
      "cell_type": "code",
      "execution_count": 3,
      "metadata": {
        "id": "wBDPUljnwQ_7"
      },
      "outputs": [],
      "source": [
        "#importing the required libraries\n",
        "import gradio as gr\n",
        "import joblib\n",
        "from sklearn.linear_model import Ridge\n",
        "import pandas as pd"
      ]
    },
    {
      "cell_type": "code",
      "source": [
        "# loading the model\n",
        "model = joblib.load('/content/drive/MyDrive/Data science journey/models/miami_real_estate.joblib')"
      ],
      "metadata": {
        "id": "AkTuIP0mzECW"
      },
      "execution_count": 4,
      "outputs": []
    },
    {
      "cell_type": "code",
      "source": [
        "#defining a function that takes in in predictive variables\n",
        "def make_prediction(lat, lon, area, spec_feat, ocean_d,water_d,cntr_d):\n",
        "    data = {\n",
        "            \"LATITUDE\": lat,\n",
        "            \"LONGITUDE\" : lon,\n",
        "            \"TOT_LVG_AREA\": area,\n",
        "            \"SPEC_FEAT_VAL\":spec_feat,\n",
        "            \"OCEAN_DIST\": ocean_d,\n",
        "            \"WATER_DIST\":water_d,\n",
        "            \"CNTR_DIST\": cntr_d\n",
        "    }\n",
        "\n",
        "    prediction = model.predict(pd.DataFrame(data, index=[0])).round()[0]\n",
        "    return f\"Predicted House  price: ${prediction}\""
      ],
      "metadata": {
        "id": "2JE5jVaxz6Lb"
      },
      "execution_count": 5,
      "outputs": []
    },
    {
      "cell_type": "code",
      "source": [
        "#creating the interface\n",
        "miami_interface = gr.Interface(fn = make_prediction,\n",
        "                               inputs=[gr.Slider(25.4343333738,25.9743818667,label='Latitude'),\n",
        "                                       gr.Slider(-80.5421721039,-80.1197463899,label ='Longitude'),\n",
        "                                       gr.Slider(854, 6287, label='House area M^2'),\n",
        "                                       gr.Slider(0,175020, label =\"Special Feature Val\"),\n",
        "                                       gr.Slider(236.10,75744.89, label ='Distance from ocean'),\n",
        "                                       gr.Slider(0,50399.80, label ='Distance to water body'),\n",
        "                                       gr.Slider(3825.60,159976.50, label='Distance from Central Business Center')\n",
        "\n",
        "                               ],\n",
        "                               outputs = 'text',title='Single family homes in Miami USA price Prediction ML model')\n",
        "\n",
        "miami_interface.launch(auth=('Vedas','0000')) #replace with your own parameters"
      ],
      "metadata": {
        "colab": {
          "base_uri": "https://localhost:8080/",
          "height": 646
        },
        "id": "nd_ePBxw0KlB",
        "outputId": "c1ccc97e-b0c5-4b56-98b1-b43ea63e5e71"
      },
      "execution_count": 6,
      "outputs": [
        {
          "output_type": "stream",
          "name": "stdout",
          "text": [
            "Setting queue=True in a Colab notebook requires sharing enabled. Setting `share=True` (you can turn this off by setting `share=False` in `launch()` explicitly).\n",
            "\n",
            "Colab notebook detected. To show errors in colab notebook, set debug=True in launch()\n",
            "Running on public URL: https://3e50acba78f362d860.gradio.live\n",
            "\n",
            "This share link expires in 72 hours. For free permanent hosting and GPU upgrades, run `gradio deploy` from Terminal to deploy to Spaces (https://huggingface.co/spaces)\n"
          ]
        },
        {
          "output_type": "display_data",
          "data": {
            "text/plain": [
              "<IPython.core.display.HTML object>"
            ],
            "text/html": [
              "<div><iframe src=\"https://3e50acba78f362d860.gradio.live\" width=\"100%\" height=\"500\" allow=\"autoplay; camera; microphone; clipboard-read; clipboard-write;\" frameborder=\"0\" allowfullscreen></iframe></div>"
            ]
          },
          "metadata": {}
        },
        {
          "output_type": "execute_result",
          "data": {
            "text/plain": []
          },
          "metadata": {},
          "execution_count": 6
        }
      ]
    },
    {
      "cell_type": "code",
      "source": [],
      "metadata": {
        "id": "Rwvej2VU5U1e"
      },
      "execution_count": 6,
      "outputs": []
    }
  ]
}